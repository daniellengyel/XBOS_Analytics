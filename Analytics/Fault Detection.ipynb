{
 "cells": [
  {
   "cell_type": "code",
   "execution_count": 1,
   "metadata": {
    "collapsed": false,
    "deletable": true,
    "editable": true
   },
   "outputs": [],
   "source": [
    "#NOTE: we assume all time series data in PST time. Only time we are working with non PST data is when \n",
    "# we receive data and then convert. See get_occupancy function for how to do that.\n",
    "# base imports\n",
    "import time\n",
    "from collections import defaultdict\n",
    "%matplotlib inline\n",
    "import pandas as pd\n",
    "from copy import copy\n",
    "from matplotlib import pyplot as plt\n",
    "import matplotlib as mpl\n",
    "import numpy as np\n",
    "import pytz\n",
    "tz = pytz.timezone(\"US/Pacific\")\n",
    "import doctest\n",
    "import matplotlib.lines as plt_line\n",
    "import matplotlib\n",
    "from sklearn.metrics import confusion_matrix\n",
    "import itertools"
   ]
  },
  {
   "cell_type": "code",
   "execution_count": 2,
   "metadata": {
    "collapsed": true,
    "deletable": true,
    "editable": true
   },
   "outputs": [],
   "source": [
    "# for fetching data\n",
    "from xbos import get_client\n",
    "from xbos.services.pundat import DataClient, timestamp, make_dataframe, merge_dfs\n",
    "from xbos.services.hod import HodClient"
   ]
  },
  {
   "cell_type": "code",
   "execution_count": 3,
   "metadata": {
    "collapsed": false,
    "deletable": true,
    "editable": true
   },
   "outputs": [
    {
     "name": "stdout",
     "output_type": "stream",
     "text": [
      "Saw [ciee/hod] HodDB -1 hours 86379 seconds 479.88 ms ago\n",
      "Saw [ucberkeley] archiver -1 hours 86375 seconds 212.586 ms ago\n"
     ]
    }
   ],
   "source": [
    "# get a bosswave client\n",
    "c = get_client(entity=\"/Users/Daniel/CIEE/SetUp/ciee_readonly.ent\", agent=\"127.0.0.1:28589\")\n",
    "# get a HodDB client\n",
    "hod = HodClient(\"ciee/hod\", c)\n",
    "# get an archiver client\n",
    "archiver = DataClient(c,archivers=[\"ucberkeley\"])"
   ]
  },
  {
   "cell_type": "markdown",
   "metadata": {
    "deletable": true,
    "editable": true
   },
   "source": [
    "# Basic Fault Detection"
   ]
  },
  {
   "cell_type": "code",
   "execution_count": 4,
   "metadata": {
    "collapsed": false,
    "deletable": true,
    "editable": true
   },
   "outputs": [],
   "source": [
    "def set_time_zone(data, whole_days=True):\n",
    "    \"\"\"Adjusts the given timezone from GMT to Pacific Time.\n",
    "    Parameters:\n",
    "            data: The time series data for which we want to make the time zone shift.\n",
    "            whole_days: If true, then we want our timeseries data to start at the beginning of a day (00:00:00) and end at the end of a day (23:59:59). In \n",
    "                        the implementation we are assuming continious data. If the timeseries data starts at day x and ends at day y, then we expect the\n",
    "                        time series data to included all days between x and y.\n",
    "    Returns:\n",
    "        A Pandas time-series Dataframe which has the index adjusted.\"\"\"\n",
    "    # next three lines do the time zone change\n",
    "    idx = data.index\n",
    "    idx = idx.tz_localize(pytz.utc).tz_convert(tz)\n",
    "    data.index = idx\n",
    "    if whole_days:\n",
    "        #The following will make sure that we only have whole days in the returned DF, because of timezones.\n",
    "        # Need to truncate ends since we don't have more data to pull from and we want whole days.\n",
    "        if data.index[0].time() > pd.Timestamp(\"00:00:00\").time():\n",
    "            temp = data.index[0]\n",
    "            d_temp = pd.Timestamp(temp + pd.Timedelta(\"1 days\"))\n",
    "            d_temp = d_temp.replace(hour=0,minute=0,second=0)\n",
    "            data = data.loc[d_temp:]\n",
    "        if data.index[-1].time() < pd.Timestamp(\"23:45:00\").time():\n",
    "            temp = data.index[-1]\n",
    "            d_temp = pd.Timestamp(temp + pd.Timedelta(\"-1 days\"))\n",
    "            d_temp = d_temp.replace(hour=23,minute=45,second=0)\n",
    "            data = data.loc[:d_temp]\n",
    "    return data\n",
    "        \n",
    "\n",
    "def get_heating_temperature(start='\"2017-09-01 00:00:00 MST\"', end='\"2017-09-12 00:00:00 MST\"', time_steps=\"5T\"):\n",
    "    \"\"\"Returns a dictionary {Zone: {Heating: pd.df, Temperature: pd.df}}. It is indexed as timeseries data with time_steps as given.\n",
    "    It has all the data in the range of times start to end as given.\n",
    "    Note, the data is given in MST time as that is how it stores. We will convert it in the function to PST.\n",
    "    Parameters:\n",
    "        start: When should the data start. Has to be a string of a string '\"Time\"'.\n",
    "        end: when should the data end. Has to be a string of a string '\"Time\"'.\n",
    "        time_steps: in what intervals (start, start+time+steps) do we want to look at data. \n",
    "    Returns:\n",
    "       Only returns the data for whole days. Will truncate edge days if needed. The Temperature dataframe will\n",
    "       have for each time a set of sensor temperature readings. The heating will have only one reading for the\n",
    "       HVAC Zone.\n",
    "         \n",
    "    IMPROVEMENT TO ME: maybe make it such that we don't have to store the data in a different cell. such that\n",
    "            we only ever have to make a call to this function, and it will somehow store the already pulled function, \n",
    "            such that it doesn't have to pull it over and over again.\n",
    "            \n",
    "    FIX to not make it truncuate. Could get extra days around edge. \"\"\"\n",
    "    \n",
    "    \n",
    "    zones = defaultdict(lambda: defaultdict(list))\n",
    "    \n",
    "    # define a Brick query and get the heating information\n",
    "    heating_q = \"\"\"SELECT ?x ?hvaczone ?uuid WHERE { \n",
    "    ?x bf:controls/bf:feeds ?hvaczone .\n",
    "     ?hvaczone rdf:type brick:HVAC_Zone .\n",
    "    ?x rdf:type/rdfs:subClassOf* brick:Thermostat .\n",
    "      ?x bf:hasPoint ?status .\n",
    "      ?status rdf:type brick:Thermostat_Status .\n",
    "      ?status bf:uuid ?uuid .\n",
    "    };\n",
    "    \"\"\"\n",
    "    heating_uuid = hod.do_query(heating_q)['Rows']\n",
    "    for thermo in heating_uuid:\n",
    "        zones[thermo[\"?hvaczone\"]][\"Heating\"].append(thermo[\"?uuid\"])\n",
    "\n",
    "    # define a Brick query and get the temperature information\n",
    "    temperature_q = \"\"\"SELECT ?x ?uuid ?hvaczone WHERE { \n",
    "    ?x bf:uuid ?uuid .\n",
    "    ?x bf:isLocatedIn/bf:isPartOf ?hvaczone .\n",
    "     ?hvaczone rdf:type brick:HVAC_Zone .\n",
    "    ?x rdf:type/rdfs:subClassOf* brick:Temperature_Sensor .\n",
    "    };\"\"\"\n",
    "    temperature_uuid = hod.do_query(temperature_q)['Rows']\n",
    "    temperature_zones = defaultdict(list)\n",
    "    for thermo in temperature_uuid:\n",
    "        zones[thermo['?hvaczone']][\"Temperature\"].append(thermo['?uuid'])\n",
    "        \n",
    "    zone_df = defaultdict(lambda: defaultdict())\n",
    "    for zone, values in zones.items():\n",
    "        print(zone)\n",
    "        # If we don't have the data for a zone, then we will just skip it.\n",
    "        # TODO reconsider this approach\n",
    "        if values[\"Heating\"] == [] or values[\"Temperature\"] == []:\n",
    "            continue\n",
    "            \n",
    "        t_get_data = time.time()\n",
    "        \n",
    "        # following two lines get data.\n",
    "        heating_data = make_dataframe(archiver.data_uuids(values[\"Heating\"], start, end, timeout=300))\n",
    "        temperature_data = make_dataframe(archiver.data_uuids(values[\"Temperature\"], start, end, timeout=300))\n",
    "        print(\"getting data took:\", time.time() - t_get_data)\n",
    "        \n",
    "\n",
    "        t_merge_data = time.time()\n",
    "        # following lines resample the data and put it into dataframes from dictionaries.\n",
    "        heating_data = merge_dfs(heating_data, resample=time_steps, do_max=True) #  Taking the max is justified by\n",
    "                            # by the reasoning that we won't have cooling and heating in the same 15 min. We always want to choose an action, so if there is anything but no heating/cooling then choose that. Taking the maximum\n",
    "            # could be an issue if we had cooling and heating at the same time, since we would take the higher numerical value, but assuming that it's either/or it's fine.\n",
    "            #TODO. Average might mess up. Think of one-hot encoding. However, we want to know which state we were in on average.\n",
    "        temperature_data = merge_dfs(temperature_data, resample=time_steps, do_mean=True) # Average temperature in time period.\n",
    "        print(\"Took to merge: \", time.time() - t_merge_data)\n",
    "        \n",
    "        heating_data = set_time_zone(heating_data)\n",
    "        temperature_data = set_time_zone(temperature_data)        \n",
    "        \n",
    "        zone_df[zone][\"Heating\"] = heating_data\n",
    "        zone_df[zone][\"Temperature\"] = temperature_data\n",
    "        return zone_df\n",
    "\n",
    "\n",
    "\n",
    "    return zone_df"
   ]
  },
  {
   "cell_type": "code",
   "execution_count": 5,
   "metadata": {
    "collapsed": false,
    "deletable": true,
    "editable": true
   },
   "outputs": [
    {
     "name": "stdout",
     "output_type": "stream",
     "text": [
      "SouthZone\n",
      "('getting data took:', 4.553551912307739)\n",
      "('Took to merge: ', 1.0169758796691895)\n"
     ]
    },
    {
     "ename": "ValueError",
     "evalue": "need more than 1 value to unpack",
     "output_type": "error",
     "traceback": [
      "\u001b[0;31m---------------------------------------------------------------------------\u001b[0m",
      "\u001b[0;31mValueError\u001b[0m                                Traceback (most recent call last)",
      "\u001b[0;32m<ipython-input-5-bf49f0d72283>\u001b[0m in \u001b[0;36m<module>\u001b[0;34m()\u001b[0m\n\u001b[0;32m----> 1\u001b[0;31m \u001b[0mheating\u001b[0m\u001b[0;34m,\u001b[0m \u001b[0mtemper\u001b[0m \u001b[0;34m=\u001b[0m \u001b[0mget_heating_temperature\u001b[0m\u001b[0;34m(\u001b[0m\u001b[0;34m)\u001b[0m\u001b[0;34m\u001b[0m\u001b[0m\n\u001b[0m",
      "\u001b[0;31mValueError\u001b[0m: need more than 1 value to unpack"
     ]
    }
   ],
   "source": [
    "heating, temper = get_heating_temperature()"
   ]
  },
  {
   "cell_type": "code",
   "execution_count": 85,
   "metadata": {
    "collapsed": true,
    "deletable": true,
    "editable": true
   },
   "outputs": [
    {
     "name": "stdout",
     "output_type": "stream",
     "text": [
      "time\n",
      "2017-09-01 17:44:45.054715982    3.0\n",
      "2017-09-01 17:44:55.091641089    3.0\n",
      "2017-09-01 17:45:05.126317188    3.0\n",
      "2017-09-01 17:45:15.160310510    3.0\n",
      "2017-09-01 17:45:25.201180578    3.0\n",
      "2017-09-01 17:45:35.230088820    3.0\n",
      "2017-09-01 17:45:45.267787081    3.0\n",
      "2017-09-01 17:45:55.303958269    3.0\n",
      "2017-09-01 17:46:05.335396156    3.0\n",
      "2017-09-01 17:46:15.520650138    3.0\n",
      "2017-09-01 17:46:25.658079439    3.0\n",
      "2017-09-01 17:46:35.759349406    3.0\n",
      "2017-09-01 17:46:45.783969162    3.0\n",
      "2017-09-01 17:46:55.822616151    3.0\n",
      "2017-09-01 17:47:05.963485331    3.0\n",
      "2017-09-01 17:47:16.096362874    3.0\n",
      "2017-09-01 17:47:26.131312711    3.0\n",
      "2017-09-01 17:47:36.376954272    2.0\n",
      "2017-09-01 17:47:46.438963416    2.0\n",
      "2017-09-01 17:47:56.556952761    2.0\n",
      "2017-09-01 17:48:06.579408594    2.0\n",
      "2017-09-01 17:48:16.613797101    2.0\n",
      "2017-09-01 17:48:26.651050630    2.0\n",
      "2017-09-01 17:48:36.684557372    2.0\n",
      "2017-09-01 17:48:46.720230551    2.0\n",
      "2017-09-01 17:48:56.745701088    2.0\n",
      "2017-09-01 17:49:06.818626033    2.0\n",
      "2017-09-01 17:49:16.946531832    2.0\n",
      "2017-09-01 17:49:26.975359822    2.0\n",
      "2017-09-01 17:49:37.100172350    2.0\n",
      "                                ... \n",
      "2017-09-11 23:54:55.722435010    0.0\n",
      "2017-09-11 23:55:05.859936564    0.0\n",
      "2017-09-11 23:55:16.031795863    0.0\n",
      "2017-09-11 23:55:26.238826712    0.0\n",
      "2017-09-11 23:55:36.376357428    0.0\n",
      "2017-09-11 23:55:46.589232211    0.0\n",
      "2017-09-11 23:55:56.650796812    0.0\n",
      "2017-09-11 23:56:06.789268846    0.0\n",
      "2017-09-11 23:56:16.926317224    0.0\n",
      "2017-09-11 23:56:27.079776971    0.0\n",
      "2017-09-11 23:56:37.200879335    0.0\n",
      "2017-09-11 23:56:47.338891882    0.0\n",
      "2017-09-11 23:56:57.480561879    0.0\n",
      "2017-09-11 23:57:07.614548937    0.0\n",
      "2017-09-11 23:57:17.751752730    0.0\n",
      "2017-09-11 23:57:27.794577333    0.0\n",
      "2017-09-11 23:57:37.935811186    0.0\n",
      "2017-09-11 23:57:48.166316796    0.0\n",
      "2017-09-11 23:57:58.614593576    0.0\n",
      "2017-09-11 23:58:08.749995325    0.0\n",
      "2017-09-11 23:58:18.987491998    0.0\n",
      "2017-09-11 23:58:29.436882768    0.0\n",
      "2017-09-11 23:58:39.573742651    0.0\n",
      "2017-09-11 23:58:49.710023551    0.0\n",
      "2017-09-11 23:58:59.846497821    0.0\n",
      "2017-09-11 23:59:09.990970010    0.0\n",
      "2017-09-11 23:59:20.121251861    0.0\n",
      "2017-09-11 23:59:30.259039224    0.0\n",
      "2017-09-11 23:59:40.396141864    0.0\n",
      "2017-09-11 23:59:50.552450616    0.0\n",
      "Name: value, dtype: float64\n",
      "time\n",
      "2017-09-01 17:47:18.151362892    24.453125\n",
      "2017-09-01 17:47:28.899905693    24.432983\n",
      "2017-09-01 17:47:39.383081997    24.382629\n",
      "2017-09-01 17:47:49.272426132    24.362488\n",
      "2017-09-01 17:47:59.531832807    24.382629\n",
      "2017-09-01 17:48:10.513246198    24.362488\n",
      "2017-09-01 17:48:19.933681159    24.382629\n",
      "2017-09-01 17:48:30.765478168    24.382629\n",
      "2017-09-01 17:48:41.884829713    24.382629\n",
      "2017-09-01 17:48:52.650050219    24.352417\n",
      "2017-09-01 17:49:03.392401286    24.352417\n",
      "2017-09-01 17:49:13.561387966    24.332275\n",
      "2017-09-01 17:49:23.022445585    24.332275\n",
      "2017-09-01 17:49:32.663990977    24.312134\n",
      "2017-09-01 17:49:43.214287292    24.281921\n",
      "2017-09-01 17:49:53.772908320    24.271851\n",
      "2017-09-01 17:50:04.442361345    24.261780\n",
      "2017-09-01 17:50:14.890230415    24.241638\n",
      "2017-09-01 17:50:25.389666676    24.231567\n",
      "2017-09-01 17:50:34.921216888    24.211426\n",
      "2017-09-01 17:50:44.608933668    24.211426\n",
      "2017-09-01 17:50:54.296150555    24.181213\n",
      "2017-09-01 17:51:05.238760166    24.171143\n",
      "2017-09-01 17:51:16.092489975    24.171143\n",
      "2017-09-01 17:51:26.700043002    24.161072\n",
      "2017-09-01 17:51:36.854417050    24.140930\n",
      "2017-09-01 17:51:47.362526360    24.130859\n",
      "2017-09-01 17:51:56.744628321    24.130859\n",
      "2017-09-01 17:52:06.232798403    24.140930\n",
      "2017-09-01 17:52:16.144094878    24.130859\n",
      "2017-09-01 17:52:25.450440755    24.140930\n",
      "2017-09-01 17:52:34.750182768    24.130859\n",
      "2017-09-01 17:52:45.339438639    24.130859\n",
      "2017-09-01 17:52:55.184192615    24.110718\n",
      "2017-09-01 17:53:05.309046121    24.130859\n",
      "2017-09-01 17:53:14.672147020    24.110718\n",
      "2017-09-01 17:53:25.181047016    24.090576\n",
      "2017-09-01 17:53:34.416820298    24.090576\n",
      "2017-09-01 17:53:43.951864632    24.090576\n",
      "2017-09-01 17:53:53.996388819    24.090576\n",
      "2017-09-01 17:54:04.421679853    24.090576\n",
      "2017-09-01 17:54:14.579190446    24.090576\n",
      "2017-09-01 17:54:24.183125709    24.090576\n",
      "2017-09-01 17:54:35.125838019    24.080505\n",
      "2017-09-01 17:54:45.829472658    24.080505\n",
      "2017-09-01 17:54:55.824926545    24.090576\n",
      "2017-09-01 17:55:06.759960246    24.080505\n",
      "2017-09-01 17:55:17.341862318    24.080505\n",
      "2017-09-01 17:55:27.914850158    24.080505\n",
      "2017-09-01 17:55:38.205245300    24.080505\n",
      "Name: value, dtype: float64\n"
     ]
    }
   ],
   "source": [
    "h = heating.values()[0].squeeze()\n",
    "t = temper.values()[0].squeeze()\n",
    "print(h[6350:])\n",
    "print(t[6250:6300])\n",
    "heating_data = set_time_zone(h)\n"
   ]
  },
  {
   "cell_type": "code",
   "execution_count": 6,
   "metadata": {
    "collapsed": false,
    "deletable": true,
    "editable": true
   },
   "outputs": [
    {
     "name": "stdout",
     "output_type": "stream",
     "text": [
      "SouthZone\n",
      "('getting data took:', 4.621469020843506)\n",
      "('Took to merge: ', 1.2460088729858398)\n"
     ]
    }
   ],
   "source": [
    "data = get_heating_temperature()"
   ]
  },
  {
   "cell_type": "markdown",
   "metadata": {
    "deletable": true,
    "editable": true
   },
   "source": [
    "Want to see if we are heating but temperature is not increasing and not heating temperature increasing or vice versa. Could be a confusion matrix. look at the difference in temperature in the last 15 min always. "
   ]
  },
  {
   "cell_type": "code",
   "execution_count": 7,
   "metadata": {
    "collapsed": true,
    "deletable": true,
    "editable": true
   },
   "outputs": [],
   "source": [
    "def set_delta_temperature(temperature_data):\n",
    "    \"\"\"Takes time series temperature data and computes the increase from the i-1th reading to the ith read.\n",
    "    Parameters:\n",
    "            temperature_data: Time series temperature data. Should have a column called \"Temperature\" in which the\n",
    "            temperature data is stored.\n",
    "    Returns:\n",
    "            A pandas DataFrame with the same index as temperature_data and a column \"delta_Temperature\" which \n",
    "            indicates the temperature increase. Very first element is zero, since we don't have data for before \n",
    "            the start.\"\"\"\n",
    "    x = temperature_data[\"Temperature\"]['24f521b8-eef6-3ca8-9c71-59752b0ba45d_value']\n",
    "    \n",
    "    \n",
    "    #.mean(axis=1, skipna=True) # takes rowwise average. Not very accurate but also saves us from one faulty thermostat.\n",
    "    delta_temp = np.zeros(x.values.shape)\n",
    "    delta_temp[1:] = x.values[1:] - x.values[:-1] # the ith item will be the temperature increase in the last time interval min. Beginning will be zero change, since we don't have endless data.\n",
    "    delta_temp_df = pd.DataFrame(data=delta_temp, columns=[\"delta_Temperature\"], index=x.index)\n",
    "    return delta_temp_df"
   ]
  },
  {
   "cell_type": "code",
   "execution_count": 8,
   "metadata": {
    "collapsed": false,
    "deletable": true,
    "editable": true
   },
   "outputs": [],
   "source": [
    "sz = set_delta_temperature(data[\"SouthZone\"])\n"
   ]
  },
  {
   "cell_type": "code",
   "execution_count": 12,
   "metadata": {
    "collapsed": false,
    "deletable": true,
    "editable": true
   },
   "outputs": [],
   "source": [
    "def temp_heating_or_not(delta_temerpature, threshold):\n",
    "    # not heating nor cooling\n",
    "    if abs(delta_temerpature) <= threshold:\n",
    "        return 0\n",
    "    # cooling down\n",
    "    if delta_temerpature < -threshold:\n",
    "        return 2\n",
    "    # Heating\n",
    "    if delta_temerpature > threshold:\n",
    "        return 1\n",
    "\n",
    "def temperature_indicating_heating(temperature_data, threshold=0.01):\n",
    "    \"\"\"Assumes temperature_data has column delta_Termperature\n",
    "    \"\"\"\n",
    "    temp = pd.DataFrame(temperature_data[\"delta_Temperature\"].map(lambda x: temp_heating_or_not(x, threshold)))\n",
    "    temp.columns = [\"Temperature_Indicator\"]\n",
    "    return temp\n",
    "\n",
    "def confusion_heating_temperature(heating, temperature):\n",
    "    \"\"\"Threshold is for what we consider a state in which temperature is not changing.\"\"\"\n",
    "    heating = heating.squeeze() # makes a one column dataframe into Series\n",
    "    temperature_indicator = temperature.squeeze()\n",
    "    C = confusion_matrix(heating.values.astype(int), temperature_indicator.values.astype(int), labels=[0,1,2]) # rows are the values by heating and rows by temerpature_indicator\n",
    "    return C\n",
    "    "
   ]
  },
  {
   "cell_type": "code",
   "execution_count": 13,
   "metadata": {
    "collapsed": true,
    "deletable": true,
    "editable": true
   },
   "outputs": [],
   "source": [
    "def plot_confusion_matrix(cm, classes,\n",
    "                          normalize=False,\n",
    "                          title='Confusion matrix',\n",
    "                          cmap=plt.cm.copper_r):\n",
    "    \"\"\"\n",
    "    This function prints and plots the confusion matrix.\n",
    "    Normalization can be applied by setting `normalize=True`.\n",
    "    \"\"\"\n",
    "    plt.figure()\n",
    "    if normalize:\n",
    "        cm = cm.astype('float') / cm.sum(axis=1)[:, np.newaxis]\n",
    "        print(\"Normalized confusion matrix\")\n",
    "    else:\n",
    "        print('Confusion matrix, without normalization')\n",
    "\n",
    "    print(cm)\n",
    "\n",
    "    plt.imshow(cm, interpolation='nearest', cmap=cmap)\n",
    "    plt.title(title)\n",
    "    plt.colorbar()\n",
    "    tick_marks = np.arange(len(classes))\n",
    "    plt.xticks(tick_marks, classes, rotation=45)\n",
    "    plt.yticks(tick_marks, classes)\n",
    "\n",
    "    fmt = '.2f' if normalize else 'd'\n",
    "    thresh = cm.max() / 2.\n",
    "    for i, j in itertools.product(range(cm.shape[0]), range(cm.shape[1])):\n",
    "        plt.text(j, i, format(cm[i, j], fmt),\n",
    "                 horizontalalignment=\"center\",\n",
    "                 color=\"white\" if cm[i, j] > thresh else \"black\")\n",
    "\n",
    "    plt.tight_layout()\n",
    "    plt.ylabel('Heating')\n",
    "    plt.xlabel('Temperaure_Indicator')\n",
    "    plt.show"
   ]
  },
  {
   "cell_type": "code",
   "execution_count": 14,
   "metadata": {
    "collapsed": false,
    "deletable": true,
    "editable": true
   },
   "outputs": [
    {
     "name": "stdout",
     "output_type": "stream",
     "text": [
      "Confusion matrix, without normalization\n",
      "[[1144  551  500]\n",
      " [   0    0    0]\n",
      " [  42   96  207]]\n"
     ]
    },
    {
     "data": {
      "image/png": "[encoded data removed]",
      "text/plain": [
       "<matplotlib.figure.Figure at 0x10f429e50>"
      ]
     },
     "metadata": {},
     "output_type": "display_data"
    }
   ],
   "source": [
    "s = temperature_indicating_heating(sz)\n",
    "south = data[\"SouthZone\"][\"Heating\"]\n",
    "c = confusion_heating_temperature(south, s)\n",
    "plot_confusion_matrix(c, [\"Not Change\",\"Heating\", \"Cooling\"])\n"
   ]
  },
  {
   "cell_type": "code",
   "execution_count": null,
   "metadata": {
    "collapsed": true,
    "deletable": true,
    "editable": true
   },
   "outputs": [],
   "source": [
    "from scipy.optimize import curve_fit\n",
    "\n",
    "\n",
    "# i think it learns which increase corresponds to heating or not.\n",
    "def func(X, c1, c2, c3, c4):\n",
    "    Tin, a1, a2 = X\n",
    "    return c1 * a1 * Tin + c2 * a2 * Tin + c3 * Tin + c4\n",
    "\n",
    "class ThermalModel:\n",
    "\n",
    "    def __init__(self, df):\n",
    "\n",
    "        self.df = df\n",
    "        self.popt, pcov = curve_fit(func, df[['tin', 'a1' , 'a2']].T.as_matrix(), df['temp_next'].as_matrix())\n",
    "\n",
    "    def next_temperature(self, Tin, action, now_time, zone=0):\n",
    "        if action == 'Heating' or action == '2':\n",
    "            return round(func([Tin, 1, 0], * self.popt) * 20) / 20.0\n",
    "        elif action == 'Cooling' or action == '1':\n",
    "            return round(func([Tin, 0, 1], *self.popt) * 20) / 20.0\n",
    "        # elif action == 'Ventilation':\n",
    "        # \tHeating, Cooling, Ventilation = 0, 0, 1\n",
    "        else:\n",
    "            return round(func([Tin, 0, 0], *self.popt) * 20) / 20.0"
   ]
  },
  {
   "cell_type": "code",
   "execution_count": null,
   "metadata": {
    "collapsed": true,
    "deletable": true,
    "editable": true
   },
   "outputs": [],
   "source": []
  }
 ],
 "metadata": {
  "kernelspec": {
   "display_name": "Python 2",
   "language": "python",
   "name": "python2"
  },
  "language_info": {
   "codemirror_mode": {
    "name": "ipython",
    "version": 2
   },
   "file_extension": ".py",
   "mimetype": "text/x-python",
   "name": "python",
   "nbconvert_exporter": "python",
   "pygments_lexer": "ipython2",
   "version": "2.7.13"
  }
 },
 "nbformat": 4,
 "nbformat_minor": 2
}
