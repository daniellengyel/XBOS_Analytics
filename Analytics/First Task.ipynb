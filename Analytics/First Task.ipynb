{
 "cells": [
  {
   "cell_type": "code",
   "execution_count": 1,
   "metadata": {
    "collapsed": true,
    "deletable": true,
    "editable": true
   },
   "outputs": [],
   "source": [
    "#NOTE: we assume all time series data in PST time. Only time we are working with non PST data is when \n",
    "# we receive data and then convert. See get_occupancy function for how to do that.\n",
    "# base imports\n",
    "import time\n",
    "from collections import defaultdict\n",
    "%matplotlib inline\n",
    "import pandas as pd\n",
    "from copy import copy\n",
    "from matplotlib import pyplot as plt\n",
    "import matplotlib as mpl\n",
    "import numpy as np\n",
    "import pytz\n",
    "tz = pytz.timezone(\"US/Pacific\")\n",
    "import doctest\n",
    "import matplotlib.lines as plt_line\n",
    "import matplotlib"
   ]
  },
  {
   "cell_type": "code",
   "execution_count": 2,
   "metadata": {
    "collapsed": true,
    "deletable": true,
    "editable": true
   },
   "outputs": [],
   "source": [
    "# for fetching data\n",
    "from xbos import get_client\n",
    "from xbos.services.pundat import DataClient, timestamp, make_dataframe, merge_dfs\n",
    "from xbos.services.hod import HodClient"
   ]
  },
  {
   "cell_type": "code",
   "execution_count": 3,
   "metadata": {
    "collapsed": false,
    "deletable": true,
    "editable": true
   },
   "outputs": [
    {
     "name": "stdout",
     "output_type": "stream",
     "text": [
      "Saw [ciee/hod] HodDB 10 seconds 538.066 ms ago\n",
      "Saw [ucberkeley] archiver 6 seconds 908.394 ms ago\n"
     ]
    }
   ],
   "source": [
    "# get a bosswave client\n",
    "c = get_client(entity=\"/Users/Daniel/CIEE/SetUp/ciee_readonly.ent\", agent=\"127.0.0.1:28589\")\n",
    "# get a HodDB client\n",
    "hod = HodClient(\"ciee/hod\", c)\n",
    "# get an archiver client\n",
    "archiver = DataClient(c,archivers=[\"ucberkeley\"])"
   ]
  },
  {
   "cell_type": "code",
   "execution_count": 11,
   "metadata": {
    "collapsed": false,
    "deletable": true,
    "editable": true
   },
   "outputs": [
    {
     "name": "stdout",
     "output_type": "stream",
     "text": [
      "defaultdict(<function <lambda> at 0x106ca0f50>, {'SouthZone': defaultdict(<type 'list'>, {'Heating': ['dfb2b403-fd08-3e9b-bf3f-18c699ce40d6']}), 'NorthZone': defaultdict(<type 'list'>, {'Heating': ['5e55e5b1-007b-39fa-98b6-ae01baa6dccd']}), 'CentralZone': defaultdict(<type 'list'>, {'Heating': ['187ed9b8-ee9b-3042-875e-088a08da37ae']}), 'EastZone': defaultdict(<type 'list'>, {'Heating': ['7e543d07-16d1-32bb-94af-95a01f4675f9']})})\n"
     ]
    }
   ],
   "source": [
    "# define a Brick query to get the temperature information\n",
    "q = \"\"\"SELECT ?x ?hvaczone ?uuid WHERE { \n",
    "?x bf:controls/bf:feeds ?hvaczone .\n",
    " ?hvaczone rdf:type brick:HVAC_Zone .\n",
    "?x rdf:type/rdfs:subClassOf* brick:Thermostat .\n",
    "  ?x bf:hasPoint ?status .\n",
    "  ?status rdf:type brick:Thermostat_Status .\n",
    "  ?status bf:uuid ?uuid .\n",
    "};\n",
    "\"\"\"\n",
    "res = hod.do_query(q)['Rows']\n",
    "zones = defaultdict(lambda: defaultdict(list))\n",
    "for sensor in res:\n",
    "    zones[sensor[\"?hvaczone\"]][\"Heating\"].append(sensor[\"?uuid\"])\n",
    "print(zones)\n",
    "\n"
   ]
  },
  {
   "cell_type": "code",
   "execution_count": 5,
   "metadata": {
    "collapsed": true,
    "deletable": true,
    "editable": true
   },
   "outputs": [],
   "source": [
    "# define a Brick query to get the occupancy information\n",
    "q = \"\"\"SELECT ?zone ?sensor_uuid WHERE {\n",
    "   ?zone rdf:type brick:HVAC_Zone .\n",
    "   ?zone bf:hasPart ?room .\n",
    "   ?sensor bf:isLocatedIn ?room .\n",
    "   ?sensor rdf:type/rdfs:subClassOf* brick:Occupancy_Sensor .\n",
    "   ?sensor bf:uuid ?sensor_uuid .\n",
    "};\n",
    "\"\"\"\n",
    "res = hod.do_query(q)['Rows']\n",
    "for sensor in res:\n",
    "    zones[sensor['?zone']][\"Occupancy\"].append(sensor['?sensor_uuid'])"
   ]
  },
  {
   "cell_type": "code",
   "execution_count": 6,
   "metadata": {
    "collapsed": true,
    "deletable": true,
    "editable": true
   },
   "outputs": [],
   "source": [
    "test_zones = {\"Test\": {\"Occupancy\": pd.DataFrame([[0, 0, 0], [1,0,0]], columns=[\"f\", \"s\", \"t\"], index=[0, 1]), \"Heating\":pd.DataFrame([[1], [0]], columns=[\"f\"], index=[0,1])}}"
   ]
  },
  {
   "cell_type": "code",
   "execution_count": 7,
   "metadata": {
    "collapsed": false,
    "deletable": true,
    "editable": true
   },
   "outputs": [
    {
     "name": "stdout",
     "output_type": "stream",
     "text": [
      "Loop has started\n",
      "['d919a14e-3ebd-3e5b-9727-0df54f287032', 'cab606d0-6d14-3aff-a0c2-e862ae297f22', 'c27adbad-b1b5-342c-91eb-a6709d365871', 'bdbbbf7c-21c3-3b61-8469-8516a8c666dd', 'afed35be-ef70-341a-8bf4-565d815bfd90', 'aefa14ef-a13a-355b-9b87-51511db7f541', '989ed503-9aa2-310e-abd3-464f6169e175', '97ba99af-869b-3c43-94e3-93040c9bdd33', '611ac5e9-33a5-3273-9fa6-548d3ad59481', '497145c4-2087-3e89-9c8f-f54b87dfb016', '47e37419-5091-3877-a476-bb6f942e93af', '2f5c888d-c0c6-33b4-9c30-d609f1e16fea', '2b3f9905-3bb7-302a-9545-7bfe2eb63547', '242cde13-7d25-306a-bfc8-918ad7bb26d6', '23d2afce-4c86-37c5-b1c2-f258758c3263', '0c51371e-6029-3302-984d-b71d850e899a', '00f45f05-08f9-3def-a977-357493fad61e']\n"
     ]
    },
    {
     "ename": "TimeoutException",
     "evalue": "Query of select data in (\"2017-09-01 08:00:00 MST\", \"2017-09-08 08:00:00 MST\") where uuid = \"d919a14e-3ebd-3e5b-9727-0df54f287032\" or uuid = \"cab606d0-6d14-3aff-a0c2-e862ae297f22\" or uuid = \"c27adbad-b1b5-342c-91eb-a6709d365871\" or uuid = \"bdbbbf7c-21c3-3b61-8469-8516a8c666dd\" or uuid = \"afed35be-ef70-341a-8bf4-565d815bfd90\" or uuid = \"aefa14ef-a13a-355b-9b87-51511db7f541\" or uuid = \"989ed503-9aa2-310e-abd3-464f6169e175\" or uuid = \"97ba99af-869b-3c43-94e3-93040c9bdd33\" or uuid = \"611ac5e9-33a5-3273-9fa6-548d3ad59481\" or uuid = \"497145c4-2087-3e89-9c8f-f54b87dfb016\" or uuid = \"47e37419-5091-3877-a476-bb6f942e93af\" or uuid = \"2f5c888d-c0c6-33b4-9c30-d609f1e16fea\" or uuid = \"2b3f9905-3bb7-302a-9545-7bfe2eb63547\" or uuid = \"242cde13-7d25-306a-bfc8-918ad7bb26d6\" or uuid = \"23d2afce-4c86-37c5-b1c2-f258758c3263\" or uuid = \"0c51371e-6029-3302-984d-b71d850e899a\" or uuid = \"00f45f05-08f9-3def-a977-357493fad61e\" timed out",
     "output_type": "error",
     "traceback": [
      "\u001b[0;31m---------------------------------------------------------------------------\u001b[0m",
      "\u001b[0;31mTimeoutException\u001b[0m                          Traceback (most recent call last)",
      "\u001b[0;32m<ipython-input-7-69905d948879>\u001b[0m in \u001b[0;36m<module>\u001b[0;34m()\u001b[0m\n\u001b[1;32m     19\u001b[0m     \u001b[0;31m# get data from archiver\u001b[0m\u001b[0;34m\u001b[0m\u001b[0;34m\u001b[0m\u001b[0m\n\u001b[1;32m     20\u001b[0m     \u001b[0;32mif\u001b[0m \u001b[0;32mnot\u001b[0m \u001b[0mtest\u001b[0m\u001b[0;34m:\u001b[0m\u001b[0;34m\u001b[0m\u001b[0m\n\u001b[0;32m---> 21\u001b[0;31m         \u001b[0moccupancy_data\u001b[0m \u001b[0;34m=\u001b[0m \u001b[0mmake_dataframe\u001b[0m\u001b[0;34m(\u001b[0m\u001b[0marchiver\u001b[0m\u001b[0;34m.\u001b[0m\u001b[0mdata_uuids\u001b[0m\u001b[0;34m(\u001b[0m\u001b[0moccupancy\u001b[0m\u001b[0;34m,\u001b[0m \u001b[0mstart\u001b[0m\u001b[0;34m,\u001b[0m \u001b[0mend\u001b[0m\u001b[0;34m)\u001b[0m\u001b[0;34m)\u001b[0m\u001b[0;34m\u001b[0m\u001b[0m\n\u001b[0m\u001b[1;32m     22\u001b[0m         \u001b[0;32mprint\u001b[0m\u001b[0;34m(\u001b[0m\u001b[0moccupancy_data\u001b[0m\u001b[0;34m)\u001b[0m\u001b[0;34m\u001b[0m\u001b[0m\n\u001b[1;32m     23\u001b[0m         \u001b[0mheating_data\u001b[0m \u001b[0;34m=\u001b[0m \u001b[0mmake_dataframe\u001b[0m\u001b[0;34m(\u001b[0m\u001b[0marchiver\u001b[0m\u001b[0;34m.\u001b[0m\u001b[0mdata_uuids\u001b[0m\u001b[0;34m(\u001b[0m\u001b[0mheating\u001b[0m\u001b[0;34m,\u001b[0m \u001b[0mstart\u001b[0m\u001b[0;34m,\u001b[0m \u001b[0mend\u001b[0m\u001b[0;34m)\u001b[0m\u001b[0;34m)\u001b[0m\u001b[0;34m\u001b[0m\u001b[0m\n",
      "\u001b[0;32m/usr/local/lib/python2.7/site-packages/xbos/services/pundat.pyc\u001b[0m in \u001b[0;36mdata_uuids\u001b[0;34m(self, uuids, start, end, archiver, timeout)\u001b[0m\n\u001b[1;32m    181\u001b[0m             \u001b[0muuids\u001b[0m \u001b[0;34m=\u001b[0m \u001b[0;34m[\u001b[0m\u001b[0muuids\u001b[0m\u001b[0;34m]\u001b[0m\u001b[0;34m\u001b[0m\u001b[0m\n\u001b[1;32m    182\u001b[0m         \u001b[0mwhere\u001b[0m \u001b[0;34m=\u001b[0m \u001b[0;34m\" or \"\u001b[0m\u001b[0;34m.\u001b[0m\u001b[0mjoin\u001b[0m\u001b[0;34m(\u001b[0m\u001b[0;34m[\u001b[0m\u001b[0;34m'uuid = \"{0}\"'\u001b[0m\u001b[0;34m.\u001b[0m\u001b[0mformat\u001b[0m\u001b[0;34m(\u001b[0m\u001b[0muuid\u001b[0m\u001b[0;34m)\u001b[0m \u001b[0;32mfor\u001b[0m \u001b[0muuid\u001b[0m \u001b[0;32min\u001b[0m \u001b[0muuids\u001b[0m\u001b[0;34m]\u001b[0m\u001b[0;34m)\u001b[0m\u001b[0;34m\u001b[0m\u001b[0m\n\u001b[0;32m--> 183\u001b[0;31m         \u001b[0;32mreturn\u001b[0m \u001b[0mself\u001b[0m\u001b[0;34m.\u001b[0m\u001b[0mquery\u001b[0m\u001b[0;34m(\u001b[0m\u001b[0;34m\"select data in ({0}, {1}) where {2}\"\u001b[0m\u001b[0;34m.\u001b[0m\u001b[0mformat\u001b[0m\u001b[0;34m(\u001b[0m\u001b[0mstart\u001b[0m\u001b[0;34m,\u001b[0m \u001b[0mend\u001b[0m\u001b[0;34m,\u001b[0m \u001b[0mwhere\u001b[0m\u001b[0;34m)\u001b[0m\u001b[0;34m,\u001b[0m \u001b[0marchiver\u001b[0m\u001b[0;34m,\u001b[0m \u001b[0mtimeout\u001b[0m\u001b[0;34m)\u001b[0m\u001b[0;34m.\u001b[0m\u001b[0mget\u001b[0m\u001b[0;34m(\u001b[0m\u001b[0;34m'timeseries'\u001b[0m\u001b[0;34m,\u001b[0m\u001b[0;34m{\u001b[0m\u001b[0;34m}\u001b[0m\u001b[0;34m)\u001b[0m\u001b[0;34m\u001b[0m\u001b[0m\n\u001b[0m\u001b[1;32m    184\u001b[0m \u001b[0;34m\u001b[0m\u001b[0m\n\u001b[1;32m    185\u001b[0m     \u001b[0;32mdef\u001b[0m \u001b[0mstats\u001b[0m\u001b[0;34m(\u001b[0m\u001b[0mself\u001b[0m\u001b[0;34m,\u001b[0m \u001b[0mwhere\u001b[0m\u001b[0;34m,\u001b[0m \u001b[0mstart\u001b[0m\u001b[0;34m,\u001b[0m \u001b[0mend\u001b[0m\u001b[0;34m,\u001b[0m \u001b[0mpw\u001b[0m\u001b[0;34m,\u001b[0m \u001b[0marchiver\u001b[0m\u001b[0;34m=\u001b[0m\u001b[0;34m\"\"\u001b[0m\u001b[0;34m,\u001b[0m \u001b[0mtimeout\u001b[0m\u001b[0;34m=\u001b[0m\u001b[0mDEFAULT_TIMEOUT\u001b[0m\u001b[0;34m)\u001b[0m\u001b[0;34m:\u001b[0m\u001b[0;34m\u001b[0m\u001b[0m\n",
      "\u001b[0;32m/usr/local/lib/python2.7/site-packages/xbos/services/pundat.pyc\u001b[0m in \u001b[0;36mquery\u001b[0;34m(self, query, archiver, timeout)\u001b[0m\n\u001b[1;32m    108\u001b[0m         \u001b[0mev\u001b[0m\u001b[0;34m.\u001b[0m\u001b[0mwait\u001b[0m\u001b[0;34m(\u001b[0m\u001b[0mtimeout\u001b[0m\u001b[0;34m)\u001b[0m\u001b[0;34m\u001b[0m\u001b[0m\n\u001b[1;32m    109\u001b[0m         \u001b[0;32mif\u001b[0m \u001b[0mlen\u001b[0m\u001b[0;34m(\u001b[0m\u001b[0mresponse\u001b[0m\u001b[0;34m)\u001b[0m \u001b[0;34m==\u001b[0m \u001b[0;36m0\u001b[0m\u001b[0;34m:\u001b[0m \u001b[0;31m# no results\u001b[0m\u001b[0;34m\u001b[0m\u001b[0m\n\u001b[0;32m--> 110\u001b[0;31m             \u001b[0;32mraise\u001b[0m \u001b[0mTimeoutException\u001b[0m\u001b[0;34m(\u001b[0m\u001b[0;34m\"Query of {0} timed out\"\u001b[0m\u001b[0;34m.\u001b[0m\u001b[0mformat\u001b[0m\u001b[0;34m(\u001b[0m\u001b[0mquery\u001b[0m\u001b[0;34m)\u001b[0m\u001b[0;34m)\u001b[0m\u001b[0;34m\u001b[0m\u001b[0m\n\u001b[0m\u001b[1;32m    111\u001b[0m         \u001b[0;32mreturn\u001b[0m \u001b[0mresponse\u001b[0m\u001b[0;34m\u001b[0m\u001b[0m\n\u001b[1;32m    112\u001b[0m \u001b[0;34m\u001b[0m\u001b[0m\n",
      "\u001b[0;31mTimeoutException\u001b[0m: Query of select data in (\"2017-09-01 08:00:00 MST\", \"2017-09-08 08:00:00 MST\") where uuid = \"d919a14e-3ebd-3e5b-9727-0df54f287032\" or uuid = \"cab606d0-6d14-3aff-a0c2-e862ae297f22\" or uuid = \"c27adbad-b1b5-342c-91eb-a6709d365871\" or uuid = \"bdbbbf7c-21c3-3b61-8469-8516a8c666dd\" or uuid = \"afed35be-ef70-341a-8bf4-565d815bfd90\" or uuid = \"aefa14ef-a13a-355b-9b87-51511db7f541\" or uuid = \"989ed503-9aa2-310e-abd3-464f6169e175\" or uuid = \"97ba99af-869b-3c43-94e3-93040c9bdd33\" or uuid = \"611ac5e9-33a5-3273-9fa6-548d3ad59481\" or uuid = \"497145c4-2087-3e89-9c8f-f54b87dfb016\" or uuid = \"47e37419-5091-3877-a476-bb6f942e93af\" or uuid = \"2f5c888d-c0c6-33b4-9c30-d609f1e16fea\" or uuid = \"2b3f9905-3bb7-302a-9545-7bfe2eb63547\" or uuid = \"242cde13-7d25-306a-bfc8-918ad7bb26d6\" or uuid = \"23d2afce-4c86-37c5-b1c2-f258758c3263\" or uuid = \"0c51371e-6029-3302-984d-b71d850e899a\" or uuid = \"00f45f05-08f9-3def-a977-357493fad61e\" timed out"
     ]
    }
   ],
   "source": [
    "# timestamps for data retrieval\n",
    "start = '\"2017-09-01 08:00:00 MST\"'\n",
    "end = '\"2017-09-08 08:00:00 MST\"'\n",
    "\n",
    "test = False\n",
    "if test:\n",
    "    zones = test_zones\n",
    "\n",
    "# loop to get data for time spent while (heating and occupied), (heating and not occupied), (not heating and occupied),\n",
    "# (not heating and not occupied)\n",
    "print(\"Loop has started\")\n",
    "zone_ho = {}\n",
    "for zone, values in zones.items():\n",
    "    t = time.time()\n",
    "    # unpack data from the values in dictionary\n",
    "    heating = values[\"Heating\"]\n",
    "    occupancy = values[\"Occupancy\"]\n",
    "    print(occupancy)\n",
    "    # get data from archiver\n",
    "    if not test:\n",
    "        occupancy_data = make_dataframe(archiver.data_uuids(occupancy, start, end))\n",
    "\n",
    "        heating_data = make_dataframe(archiver.data_uuids(heating, start, end))\n",
    "        \n",
    "        # merge the retrieved data into an acceptable dfs\n",
    "        heating_dfs = merge_dfs(heating_data, resample=\"30S\", do_max=True)\n",
    "        occupancy_dfs = merge_dfs(occupancy_data, resample=\"30S\", do_max=True)\n",
    "        # set the occupany dfs to reflect is someone is in (1) or not (0)\n",
    "        occupancy_dfs = 1*(occupancy_dfs > 0)\n",
    "    if test:\n",
    "        occupancy_dfs = occupancy\n",
    "        heating_dfs = heating\n",
    "    # change the column names to make them more easy to identify \n",
    "    occupancy_dfs.columns = occupancy_dfs.columns.map(lambda x: \"occupancy_\"+str(x))\n",
    "    heating_dfs.columns = heating_dfs.columns.map(lambda x: \"heating_\" + str(x))\n",
    "    # concatinating the two dfs. Might be not so good because of the timeseries. Might have to resample i suppose or\n",
    "    # do something about it.\n",
    "    data = pd.concat([heating_dfs, occupancy_dfs], axis=1)\n",
    "    # function for a row of the data. Returns the four information sets accordingly\n",
    "    criteria_heating = data.columns.map(lambda y: \"heating\" in y).tolist()\n",
    "    criteria_occupancy = data.columns.map(lambda z: \"occupancy\" in z).tolist()\n",
    "    def f(x):\n",
    "        occupied = any(x[criteria_occupancy])\n",
    "        heating = any(x[criteria_heating])\n",
    "        return pd.Series([occupied and heating, not occupied and heating, occupied and not heating, not occupied and not heating])\n",
    "    heating_occupancy = data.apply(f, axis=1)\n",
    "    heating_occupancy.columns = pd.Series([\"o&h\", \"no&h\", \"o&nh\", \"no&nh\"])\n",
    "    zone_ho[zone] = heating_occupancy\n",
    "    print(\"Time for \" + str(zone) + \" was: \" + str(time.time()-t))\n",
    "print(\"Done with cleaning up data.\")\n",
    "    "
   ]
  },
  {
   "cell_type": "code",
   "execution_count": null,
   "metadata": {
    "collapsed": true,
    "deletable": true,
    "editable": true
   },
   "outputs": [],
   "source": [
    "for zone, heating_occupancy in zone_ho.items():\n",
    "    time_spent = heating_occupancy.sum(axis=0) * 0.5 / 60\n",
    "    print(\"Times for: \" + str(zone) + \" in hours:\")\n",
    "    print(time_spent)\n",
    "#     print(\"Ratio: \"+str(time))\n",
    "    figure = heating_occupancy.resample(\"1H\").max().plot(legend=True, figsize=(15,8))\n",
    "    figure.set_title(zone+ \" occupancy&heating\")\n",
    "    figure.set_ylabel(\"True/False\")"
   ]
  },
  {
   "cell_type": "code",
   "execution_count": null,
   "metadata": {
    "collapsed": true
   },
   "outputs": [],
   "source": []
  }
 ],
 "metadata": {
  "kernelspec": {
   "display_name": "Python 2",
   "language": "python",
   "name": "python2"
  },
  "language_info": {
   "codemirror_mode": {
    "name": "ipython",
    "version": 2
   },
   "file_extension": ".py",
   "mimetype": "text/x-python",
   "name": "python",
   "nbconvert_exporter": "python",
   "pygments_lexer": "ipython2",
   "version": "2.7.13"
  }
 },
 "nbformat": 4,
 "nbformat_minor": 2
}
